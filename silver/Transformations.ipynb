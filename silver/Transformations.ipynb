{
 "cells": [
  {
   "cell_type": "code",
   "execution_count": 0,
   "metadata": {
    "application/vnd.databricks.v1+cell": {
     "cellMetadata": {
      "byteLimit": 2048000,
      "rowLimit": 10000
     },
     "inputWidgets": {},
     "nuid": "a16ef58a-052c-4f5a-bfa0-bd181c219ab7",
     "showTitle": false,
     "tableResultSettingsMap": {},
     "title": ""
    }
   },
   "outputs": [
    {
     "output_type": "stream",
     "name": "stdout",
     "output_type": "stream",
     "text": [
      "Data for Gdansk transformed and written in parquet format to Amazon s3 storage.\nThere are an odd number of unique team names in the Gdansk 2012/2013 league. Please check for inconsistent team naming.\n"
     ]
    },
    {
     "output_type": "display_data",
     "data": {
      "text/html": [
       "<style scoped>\n",
       "  .table-result-container {\n",
       "    max-height: 300px;\n",
       "    overflow: auto;\n",
       "  }\n",
       "  table, th, td {\n",
       "    border: 1px solid black;\n",
       "    border-collapse: collapse;\n",
       "  }\n",
       "  th, td {\n",
       "    padding: 5px;\n",
       "  }\n",
       "  th {\n",
       "    text-align: left;\n",
       "  }\n",
       "</style><div class='table-result-container'><table class='table-result'><thead style='background-color: white'><tr><th>home_team</th></tr></thead><tbody><tr><td>Jaguar A</td></tr><tr><td>Escola PG B</td></tr><tr><td>Olimpia Elbląg</td></tr><tr><td>AP Karol Piątek</td></tr><tr><td>Jedynka Reda B</td></tr><tr><td>Legendani Gdańsk</td></tr><tr><td>Victoria Łęgowo</td></tr><tr><td>Czarni Pruszcz</td></tr><tr><td>TLG</td></tr><tr><td>Lider Dębogórze</td></tr><tr><td>Escola PG A</td></tr><tr><td>Pokolenia LG B</td></tr><tr><td>Conrad Gdańsk</td></tr><tr><td>Ex Przymorze</td></tr><tr><td>Jedynka Reda A</td></tr><tr><td>Jaguar Ladies</td></tr><tr><td>Orzeł Trąbki dz.</td></tr><tr><td>Styna Godziszewo</td></tr><tr><td>Pokolenia LG A</td></tr><tr><td>Jantarek Wład.</td></tr><tr><td>Pomerania</td></tr><tr><td>Potok Pszczółki</td></tr><tr><td>AP Orlen Gdańsk</td></tr><tr><td>Jaguar B</td></tr><tr><td>Qumple</td></tr><tr><td>Ex Siedcle</td></tr><tr><td>Lew Pomorze</td></tr><tr><td>Stolem Gniewino</td></tr><tr><td>Concordia Elbląg</td></tr></tbody></table></div>"
      ]
     },
     "metadata": {
      "application/vnd.databricks.v1+output": {
       "addedWidgets": {},
       "aggData": [],
       "aggError": "",
       "aggOverflow": false,
       "aggSchema": [],
       "aggSeriesLimitReached": false,
       "aggType": "",
       "arguments": {},
       "columnCustomDisplayInfos": {},
       "data": [
        [
         "Jaguar A"
        ],
        [
         "Escola PG B"
        ],
        [
         "Olimpia Elbląg"
        ],
        [
         "AP Karol Piątek"
        ],
        [
         "Jedynka Reda B"
        ],
        [
         "Legendani Gdańsk"
        ],
        [
         "Victoria Łęgowo"
        ],
        [
         "Czarni Pruszcz"
        ],
        [
         "TLG"
        ],
        [
         "Lider Dębogórze"
        ],
        [
         "Escola PG A"
        ],
        [
         "Pokolenia LG B"
        ],
        [
         "Conrad Gdańsk"
        ],
        [
         "Ex Przymorze"
        ],
        [
         "Jedynka Reda A"
        ],
        [
         "Jaguar Ladies"
        ],
        [
         "Orzeł Trąbki dz."
        ],
        [
         "Styna Godziszewo"
        ],
        [
         "Pokolenia LG A"
        ],
        [
         "Jantarek Wład."
        ],
        [
         "Pomerania"
        ],
        [
         "Potok Pszczółki"
        ],
        [
         "AP Orlen Gdańsk"
        ],
        [
         "Jaguar B"
        ],
        [
         "Qumple"
        ],
        [
         "Ex Siedcle"
        ],
        [
         "Lew Pomorze"
        ],
        [
         "Stolem Gniewino"
        ],
        [
         "Concordia Elbląg"
        ]
       ],
       "datasetInfos": [],
       "dbfsResultPath": null,
       "isJsonSchema": true,
       "metadata": {},
       "overflow": false,
       "plotOptions": {
        "customPlotOptions": {},
        "displayType": "table",
        "pivotAggregation": null,
        "pivotColumns": null,
        "xColumns": null,
        "yColumns": null
       },
       "removedWidgets": [],
       "schema": [
        {
         "metadata": "{}",
         "name": "home_team",
         "type": "\"string\""
        }
       ],
       "type": "table"
      }
     },
     "output_type": "display_data"
    },
    {
     "output_type": "stream",
     "name": "stdout",
     "output_type": "stream",
     "text": [
      "Data for Gdansk transformed and written in parquet format to Amazon s3 storage.\nData for Gdansk transformed and written in parquet format to Amazon s3 storage.\nData for Gdansk transformed and written in parquet format to Amazon s3 storage.\nData for Gdansk transformed and written in parquet format to Amazon s3 storage.\nData for Gdansk transformed and written in parquet format to Amazon s3 storage.\nData for Warsaw transformed and written in parquet format to Amazon s3 storage.\nData for Warsaw transformed and written in parquet format to Amazon s3 storage.\nData for Warsaw transformed and written in parquet format to Amazon s3 storage.\nData for Warsaw transformed and written in parquet format to Amazon s3 storage.\nData for Warsaw transformed and written in parquet format to Amazon s3 storage.\nData for Warsaw transformed and written in parquet format to Amazon s3 storage.\nData for Wroclaw transformed and written in parquet format to Amazon s3 storage.\nData for Wroclaw transformed and written in parquet format to Amazon s3 storage.\nData for Wroclaw transformed and written in parquet format to Amazon s3 storage.\nData for Wroclaw transformed and written in parquet format to Amazon s3 storage.\nData for Wroclaw transformed and written in parquet format to Amazon s3 storage.\nData for Wroclaw transformed and written in parquet format to Amazon s3 storage.\nData for Krakow transformed and written in parquet format to Amazon s3 storage.\nThere are an odd number of unique team names in the Krakow 2012/2013 league. Please check for inconsistent team naming.\n"
     ]
    },
    {
     "output_type": "display_data",
     "data": {
      "text/html": [
       "<style scoped>\n",
       "  .table-result-container {\n",
       "    max-height: 300px;\n",
       "    overflow: auto;\n",
       "  }\n",
       "  table, th, td {\n",
       "    border: 1px solid black;\n",
       "    border-collapse: collapse;\n",
       "  }\n",
       "  th, td {\n",
       "    padding: 5px;\n",
       "  }\n",
       "  th {\n",
       "    text-align: left;\n",
       "  }\n",
       "</style><div class='table-result-container'><table class='table-result'><thead style='background-color: white'><tr><th>home_team</th></tr></thead><tbody><tr><td>Lotnik Kryspnów</td></tr><tr><td>ASEREK</td></tr><tr><td>Słomniczanka B</td></tr><tr><td>MKS Trzebinia B</td></tr><tr><td>MKS Trzebinia</td></tr><tr><td>Ind. Proces B</td></tr><tr><td>Aserek Kryg</td></tr><tr><td>Krakus NHI</td></tr><tr><td>Krakus NH</td></tr><tr><td>Ind. Proces A</td></tr><tr><td>Milenium Skawina</td></tr><tr><td>Słomniczanka C</td></tr><tr><td>MKS Trzebinia A</td></tr><tr><td>Słomniczanka A</td></tr><tr><td>AP Champions</td></tr></tbody></table></div>"
      ]
     },
     "metadata": {
      "application/vnd.databricks.v1+output": {
       "addedWidgets": {},
       "aggData": [],
       "aggError": "",
       "aggOverflow": false,
       "aggSchema": [],
       "aggSeriesLimitReached": false,
       "aggType": "",
       "arguments": {},
       "columnCustomDisplayInfos": {},
       "data": [
        [
         "Lotnik Kryspnów"
        ],
        [
         "ASEREK"
        ],
        [
         "Słomniczanka B"
        ],
        [
         "MKS Trzebinia B"
        ],
        [
         "MKS Trzebinia"
        ],
        [
         "Ind. Proces B"
        ],
        [
         "Aserek Kryg"
        ],
        [
         "Krakus NHI"
        ],
        [
         "Krakus NH"
        ],
        [
         "Ind. Proces A"
        ],
        [
         "Milenium Skawina"
        ],
        [
         "Słomniczanka C"
        ],
        [
         "MKS Trzebinia A"
        ],
        [
         "Słomniczanka A"
        ],
        [
         "AP Champions"
        ]
       ],
       "datasetInfos": [],
       "dbfsResultPath": null,
       "isJsonSchema": true,
       "metadata": {},
       "overflow": false,
       "plotOptions": {
        "customPlotOptions": {},
        "displayType": "table",
        "pivotAggregation": null,
        "pivotColumns": null,
        "xColumns": null,
        "yColumns": null
       },
       "removedWidgets": [],
       "schema": [
        {
         "metadata": "{}",
         "name": "home_team",
         "type": "\"string\""
        }
       ],
       "type": "table"
      }
     },
     "output_type": "display_data"
    },
    {
     "output_type": "stream",
     "name": "stdout",
     "output_type": "stream",
     "text": [
      "Data for Krakow transformed and written in parquet format to Amazon s3 storage.\nData for Krakow transformed and written in parquet format to Amazon s3 storage.\nThere are an odd number of unique team names in the Krakow 2014/2015 league. Please check for inconsistent team naming.\n"
     ]
    },
    {
     "output_type": "display_data",
     "data": {
      "text/html": [
       "<style scoped>\n",
       "  .table-result-container {\n",
       "    max-height: 300px;\n",
       "    overflow: auto;\n",
       "  }\n",
       "  table, th, td {\n",
       "    border: 1px solid black;\n",
       "    border-collapse: collapse;\n",
       "  }\n",
       "  th, td {\n",
       "    padding: 5px;\n",
       "  }\n",
       "  th {\n",
       "    text-align: left;\n",
       "  }\n",
       "</style><div class='table-result-container'><table class='table-result'><thead style='background-color: white'><tr><th>home_team</th></tr></thead><tbody><tr><td>Lotnik Kryspinów</td></tr><tr><td>Kmita Zabierzów</td></tr><tr><td>Pcimianka Pcim A</td></tr><tr><td>Champions A</td></tr><tr><td>Bonito Mszana A</td></tr><tr><td>Bibiczanka B</td></tr><tr><td>Hutnik Kraków 14B</td></tr><tr><td>Sokół Słopnice B</td></tr><tr><td>AM Cracovia B</td></tr><tr><td>Bonito Mszana B</td></tr><tr><td>Bibiczanka A</td></tr><tr><td>KS Prądniczanka B</td></tr><tr><td>Orzeł Piaski</td></tr><tr><td>Orlęta Rudawa</td></tr><tr><td>Krakus NH A</td></tr><tr><td>Podgórze Kraków B</td></tr><tr><td>WAP Wolbrom</td></tr><tr><td>KS Batory</td></tr><tr><td>Krakus NH B</td></tr><tr><td>KS Prądniczanka A</td></tr><tr><td>Błękitni Modlnica B</td></tr><tr><td>AF Z Głową</td></tr><tr><td>Krakus Swo. A</td></tr><tr><td>Temp Kraków</td></tr><tr><td>Maszycanka</td></tr><tr><td>Pogoń Kraków A</td></tr><tr><td>Hutnik Kraków 15A</td></tr><tr><td>Podgórze Kraków A</td></tr><tr><td>Hutnik Kraków 15B</td></tr><tr><td>Wisła CD</td></tr><tr><td>Podgórze Kraków C</td></tr><tr><td>AP Champions B</td></tr><tr><td>Juventus Kraków</td></tr><tr><td>AP Champions A</td></tr><tr><td>Sokół Słopnice A</td></tr><tr><td>Błękitni Modlnica A</td></tr><tr><td>Krakus Swo. B</td></tr><tr><td>Pogoń Kraków B</td></tr><tr><td>Pcimianka Pcim B</td></tr><tr><td>Krakus Swosz.B</td></tr><tr><td>Hutnik Kraków 14A</td></tr><tr><td>AM Cracovia A</td></tr><tr><td>AF z Głową</td></tr></tbody></table></div>"
      ]
     },
     "metadata": {
      "application/vnd.databricks.v1+output": {
       "addedWidgets": {},
       "aggData": [],
       "aggError": "",
       "aggOverflow": false,
       "aggSchema": [],
       "aggSeriesLimitReached": false,
       "aggType": "",
       "arguments": {},
       "columnCustomDisplayInfos": {},
       "data": [
        [
         "Lotnik Kryspinów"
        ],
        [
         "Kmita Zabierzów"
        ],
        [
         "Pcimianka Pcim A"
        ],
        [
         "Champions A"
        ],
        [
         "Bonito Mszana A"
        ],
        [
         "Bibiczanka B"
        ],
        [
         "Hutnik Kraków 14B"
        ],
        [
         "Sokół Słopnice B"
        ],
        [
         "AM Cracovia B"
        ],
        [
         "Bonito Mszana B"
        ],
        [
         "Bibiczanka A"
        ],
        [
         "KS Prądniczanka B"
        ],
        [
         "Orzeł Piaski"
        ],
        [
         "Orlęta Rudawa"
        ],
        [
         "Krakus NH A"
        ],
        [
         "Podgórze Kraków B"
        ],
        [
         "WAP Wolbrom"
        ],
        [
         "KS Batory"
        ],
        [
         "Krakus NH B"
        ],
        [
         "KS Prądniczanka A"
        ],
        [
         "Błękitni Modlnica B"
        ],
        [
         "AF Z Głową"
        ],
        [
         "Krakus Swo. A"
        ],
        [
         "Temp Kraków"
        ],
        [
         "Maszycanka"
        ],
        [
         "Pogoń Kraków A"
        ],
        [
         "Hutnik Kraków 15A"
        ],
        [
         "Podgórze Kraków A"
        ],
        [
         "Hutnik Kraków 15B"
        ],
        [
         "Wisła CD"
        ],
        [
         "Podgórze Kraków C"
        ],
        [
         "AP Champions B"
        ],
        [
         "Juventus Kraków"
        ],
        [
         "AP Champions A"
        ],
        [
         "Sokół Słopnice A"
        ],
        [
         "Błękitni Modlnica A"
        ],
        [
         "Krakus Swo. B"
        ],
        [
         "Pogoń Kraków B"
        ],
        [
         "Pcimianka Pcim B"
        ],
        [
         "Krakus Swosz.B"
        ],
        [
         "Hutnik Kraków 14A"
        ],
        [
         "AM Cracovia A"
        ],
        [
         "AF z Głową"
        ]
       ],
       "datasetInfos": [],
       "dbfsResultPath": null,
       "isJsonSchema": true,
       "metadata": {},
       "overflow": false,
       "plotOptions": {
        "customPlotOptions": {},
        "displayType": "table",
        "pivotAggregation": null,
        "pivotColumns": null,
        "xColumns": null,
        "yColumns": null
       },
       "removedWidgets": [],
       "schema": [
        {
         "metadata": "{}",
         "name": "home_team",
         "type": "\"string\""
        }
       ],
       "type": "table"
      }
     },
     "output_type": "display_data"
    },
    {
     "output_type": "stream",
     "name": "stdout",
     "output_type": "stream",
     "text": [
      "Data for Krakow transformed and written in parquet format to Amazon s3 storage.\nThere are an odd number of unique team names in the Krakow 2016/2017 league. Please check for inconsistent team naming.\n"
     ]
    },
    {
     "output_type": "display_data",
     "data": {
      "text/html": [
       "<style scoped>\n",
       "  .table-result-container {\n",
       "    max-height: 300px;\n",
       "    overflow: auto;\n",
       "  }\n",
       "  table, th, td {\n",
       "    border: 1px solid black;\n",
       "    border-collapse: collapse;\n",
       "  }\n",
       "  th, td {\n",
       "    padding: 5px;\n",
       "  }\n",
       "  th {\n",
       "    text-align: left;\n",
       "  }\n",
       "</style><div class='table-result-container'><table class='table-result'><thead style='background-color: white'><tr><th>home_team</th></tr></thead><tbody><tr><td>Hutnik Kraków 17B</td></tr><tr><td>Lotnik Kryspinów</td></tr><tr><td>Hutnik Kraków 16B</td></tr><tr><td>Halniak MP A</td></tr><tr><td>Krakus Swosz. A</td></tr><tr><td>Dynamo Kraków II</td></tr><tr><td>Bonito Mszana A</td></tr><tr><td>Hutnik Kraków 16A</td></tr><tr><td>Bonito Mszana B</td></tr><tr><td>Triumf Alwernia</td></tr><tr><td>Dynamo Kraków I</td></tr><tr><td>Halniak MP B</td></tr><tr><td>Krakus Nowa Huta</td></tr><tr><td>Kmita Zabrzierzów</td></tr><tr><td>Krakus Swo. A</td></tr><tr><td>SF Staniatki 17A</td></tr><tr><td>SF Staniątki 17C</td></tr><tr><td>Pogoń Kraków A</td></tr><tr><td>Hutnik Kraków 17A</td></tr><tr><td>Temp Kraków A</td></tr><tr><td>Temp Kraków B</td></tr><tr><td>Srebrni Olkusz</td></tr><tr><td>SF Staniatki 16A</td></tr><tr><td>Orzeł PW</td></tr><tr><td>Krakus Swo. B</td></tr><tr><td>SF Staniatki 17B</td></tr><tr><td>Pogoń Kraków B</td></tr><tr><td>AP Champions</td></tr><tr><td>SF Staniatki 16B</td></tr></tbody></table></div>"
      ]
     },
     "metadata": {
      "application/vnd.databricks.v1+output": {
       "addedWidgets": {},
       "aggData": [],
       "aggError": "",
       "aggOverflow": false,
       "aggSchema": [],
       "aggSeriesLimitReached": false,
       "aggType": "",
       "arguments": {},
       "columnCustomDisplayInfos": {},
       "data": [
        [
         "Hutnik Kraków 17B"
        ],
        [
         "Lotnik Kryspinów"
        ],
        [
         "Hutnik Kraków 16B"
        ],
        [
         "Halniak MP A"
        ],
        [
         "Krakus Swosz. A"
        ],
        [
         "Dynamo Kraków II"
        ],
        [
         "Bonito Mszana A"
        ],
        [
         "Hutnik Kraków 16A"
        ],
        [
         "Bonito Mszana B"
        ],
        [
         "Triumf Alwernia"
        ],
        [
         "Dynamo Kraków I"
        ],
        [
         "Halniak MP B"
        ],
        [
         "Krakus Nowa Huta"
        ],
        [
         "Kmita Zabrzierzów"
        ],
        [
         "Krakus Swo. A"
        ],
        [
         "SF Staniatki 17A"
        ],
        [
         "SF Staniątki 17C"
        ],
        [
         "Pogoń Kraków A"
        ],
        [
         "Hutnik Kraków 17A"
        ],
        [
         "Temp Kraków A"
        ],
        [
         "Temp Kraków B"
        ],
        [
         "Srebrni Olkusz"
        ],
        [
         "SF Staniatki 16A"
        ],
        [
         "Orzeł PW"
        ],
        [
         "Krakus Swo. B"
        ],
        [
         "SF Staniatki 17B"
        ],
        [
         "Pogoń Kraków B"
        ],
        [
         "AP Champions"
        ],
        [
         "SF Staniatki 16B"
        ]
       ],
       "datasetInfos": [],
       "dbfsResultPath": null,
       "isJsonSchema": true,
       "metadata": {},
       "overflow": false,
       "plotOptions": {
        "customPlotOptions": {},
        "displayType": "table",
        "pivotAggregation": null,
        "pivotColumns": null,
        "xColumns": null,
        "yColumns": null
       },
       "removedWidgets": [],
       "schema": [
        {
         "metadata": "{}",
         "name": "home_team",
         "type": "\"string\""
        }
       ],
       "type": "table"
      }
     },
     "output_type": "display_data"
    },
    {
     "output_type": "stream",
     "name": "stdout",
     "output_type": "stream",
     "text": [
      "Data for Krakow transformed and written in parquet format to Amazon s3 storage.\nThere are an odd number of unique team names in the Krakow 2018/2019 league. Please check for inconsistent team naming.\n"
     ]
    },
    {
     "output_type": "display_data",
     "data": {
      "text/html": [
       "<style scoped>\n",
       "  .table-result-container {\n",
       "    max-height: 300px;\n",
       "    overflow: auto;\n",
       "  }\n",
       "  table, th, td {\n",
       "    border: 1px solid black;\n",
       "    border-collapse: collapse;\n",
       "  }\n",
       "  th, td {\n",
       "    padding: 5px;\n",
       "  }\n",
       "  th {\n",
       "    text-align: left;\n",
       "  }\n",
       "</style><div class='table-result-container'><table class='table-result'><thead style='background-color: white'><tr><th>home_team</th></tr></thead><tbody><tr><td>Hutnik A</td></tr><tr><td>KS Podgórze</td></tr><tr><td>Bonito Mszana</td></tr><tr><td>Dynamo B</td></tr><tr><td>Dynamo A</td></tr><tr><td>Krakus Swo.</td></tr><tr><td>Krakus Swosz.</td></tr><tr><td>Hutnik B</td></tr><tr><td>Lotnik Kryspinów</td></tr></tbody></table></div>"
      ]
     },
     "metadata": {
      "application/vnd.databricks.v1+output": {
       "addedWidgets": {},
       "aggData": [],
       "aggError": "",
       "aggOverflow": false,
       "aggSchema": [],
       "aggSeriesLimitReached": false,
       "aggType": "",
       "arguments": {},
       "columnCustomDisplayInfos": {},
       "data": [
        [
         "Hutnik A"
        ],
        [
         "KS Podgórze"
        ],
        [
         "Bonito Mszana"
        ],
        [
         "Dynamo B"
        ],
        [
         "Dynamo A"
        ],
        [
         "Krakus Swo."
        ],
        [
         "Krakus Swosz."
        ],
        [
         "Hutnik B"
        ],
        [
         "Lotnik Kryspinów"
        ]
       ],
       "datasetInfos": [],
       "dbfsResultPath": null,
       "isJsonSchema": true,
       "metadata": {},
       "overflow": false,
       "plotOptions": {
        "customPlotOptions": {},
        "displayType": "table",
        "pivotAggregation": null,
        "pivotColumns": null,
        "xColumns": null,
        "yColumns": null
       },
       "removedWidgets": [],
       "schema": [
        {
         "metadata": "{}",
         "name": "home_team",
         "type": "\"string\""
        }
       ],
       "type": "table"
      }
     },
     "output_type": "display_data"
    },
    {
     "output_type": "stream",
     "name": "stdout",
     "output_type": "stream",
     "text": [
      "Data for Krakow transformed and written in parquet format to Amazon s3 storage.\nData for Poznan transformed and written in parquet format to Amazon s3 storage.\nData for Poznan transformed and written in parquet format to Amazon s3 storage.\nData for Poznan transformed and written in parquet format to Amazon s3 storage.\nThere are an odd number of unique team names in the Poznan 2014/2015 league. Please check for inconsistent team naming.\n"
     ]
    },
    {
     "output_type": "display_data",
     "data": {
      "text/html": [
       "<style scoped>\n",
       "  .table-result-container {\n",
       "    max-height: 300px;\n",
       "    overflow: auto;\n",
       "  }\n",
       "  table, th, td {\n",
       "    border: 1px solid black;\n",
       "    border-collapse: collapse;\n",
       "  }\n",
       "  th, td {\n",
       "    padding: 5px;\n",
       "  }\n",
       "  th {\n",
       "    text-align: left;\n",
       "  }\n",
       "</style><div class='table-result-container'><table class='table-result'><thead style='background-color: white'><tr><th>home_team</th></tr></thead><tbody><tr><td>Las Puszczykowo</td></tr><tr><td>Orlik Kaźmierz 15</td></tr><tr><td>Lipno Stęszew A</td></tr><tr><td>UKS Śrem</td></tr><tr><td>Orlik Każmierz 14</td></tr><tr><td>APR Tulce</td></tr><tr><td>Orlik Kaźmierz  15</td></tr><tr><td>Huragan Pobiedziska</td></tr><tr><td>APR Skórzewo</td></tr><tr><td>UKS 17 Baranowo</td></tr><tr><td>Przemysław Poznań</td></tr><tr><td>APR Poznań Pł.</td></tr><tr><td>Lipno Stęszew  B</td></tr></tbody></table></div>"
      ]
     },
     "metadata": {
      "application/vnd.databricks.v1+output": {
       "addedWidgets": {},
       "aggData": [],
       "aggError": "",
       "aggOverflow": false,
       "aggSchema": [],
       "aggSeriesLimitReached": false,
       "aggType": "",
       "arguments": {},
       "columnCustomDisplayInfos": {},
       "data": [
        [
         "Las Puszczykowo"
        ],
        [
         "Orlik Kaźmierz 15"
        ],
        [
         "Lipno Stęszew A"
        ],
        [
         "UKS Śrem"
        ],
        [
         "Orlik Każmierz 14"
        ],
        [
         "APR Tulce"
        ],
        [
         "Orlik Kaźmierz  15"
        ],
        [
         "Huragan Pobiedziska"
        ],
        [
         "APR Skórzewo"
        ],
        [
         "UKS 17 Baranowo"
        ],
        [
         "Przemysław Poznań"
        ],
        [
         "APR Poznań Pł."
        ],
        [
         "Lipno Stęszew  B"
        ]
       ],
       "datasetInfos": [],
       "dbfsResultPath": null,
       "isJsonSchema": true,
       "metadata": {},
       "overflow": false,
       "plotOptions": {
        "customPlotOptions": {},
        "displayType": "table",
        "pivotAggregation": null,
        "pivotColumns": null,
        "xColumns": null,
        "yColumns": null
       },
       "removedWidgets": [],
       "schema": [
        {
         "metadata": "{}",
         "name": "home_team",
         "type": "\"string\""
        }
       ],
       "type": "table"
      }
     },
     "output_type": "display_data"
    },
    {
     "output_type": "stream",
     "name": "stdout",
     "output_type": "stream",
     "text": [
      "Data for Poznan transformed and written in parquet format to Amazon s3 storage.\nData for Poznan transformed and written in parquet format to Amazon s3 storage.\nData for Poznan transformed and written in parquet format to Amazon s3 storage.\nData for Slask transformed and written in parquet format to Amazon s3 storage.\nData for Slask transformed and written in parquet format to Amazon s3 storage.\nData for Slask transformed and written in parquet format to Amazon s3 storage.\nData for Slask transformed and written in parquet format to Amazon s3 storage.\nData for Slask transformed and written in parquet format to Amazon s3 storage.\nData for Slask transformed and written in parquet format to Amazon s3 storage.\n"
     ]
    }
   ],
   "source": [
    "from pyspark.sql import functions as F\n",
    "from pyspark.sql.functions import col\n",
    "\n",
    "def unique_team_names(city, category):    \n",
    "\n",
    "    s3_input_path = f\"s3://databricks-workspace-liga-mt-bucket/unity-catalog/bronze/{city}/*.parquet\"\n",
    "\n",
    "    silver_data = spark.read \\\n",
    "        .format(\"parquet\") \\\n",
    "        .option(\"inferSchema\", \"false\") \\\n",
    "        .load(s3_input_path)\n",
    "\n",
    "    # Cast home_goals and away_goals to integers\n",
    "    silver_data = silver_data.withColumn(\"home_goals\", F.col(\"home_goals\").cast(\"int\")) \\\n",
    "                            .withColumn(\"away_goals\", F.col(\"away_goals\").cast(\"int\"))\n",
    "\n",
    "    # Add a Calculated RESULT column\n",
    "    silver_data = silver_data.withColumn(\n",
    "        \"result\",\n",
    "        F.when(F.col(\"home_goals\") > F.col(\"away_goals\"), \"HOME WIN\")\n",
    "        .when(F.col(\"home_goals\") < F.col(\"away_goals\"), \"AWAY WIN\")\n",
    "        .otherwise(\"DRAW\")\n",
    "    )\n",
    "\n",
    "    # Filter the DataFrame based on the category\n",
    "    category_silver_data = silver_data.filter(col(\"category\") == category)\n",
    "\n",
    "    # Collect unique home and away teams\n",
    "    unique_home_teams = category_silver_data.select(\"home_team\").distinct()\n",
    "    unique_away_teams = category_silver_data.select(\"away_team\").distinct()\n",
    "\n",
    "    # Union the two DataFrames to get all unique team names\n",
    "    unique_teams = unique_home_teams.union(unique_away_teams).distinct()\n",
    "\n",
    "    # Count unique team names\n",
    "    num_unique_teams = unique_teams.count()\n",
    "\n",
    "    # Flag indication of duplicate / inconsistent team naming\n",
    "    if num_unique_teams % 2 != 0:\n",
    "        print(f\"There are an odd number of unique team names in the {city.capitalize()} {category} league. Please check for inconsistent team naming.\")\n",
    "        display(unique_teams)\n",
    "\n",
    "    s3_output_path = f\"s3://databricks-workspace-liga-mt-bucket/unity-catalog/silver/{city}/\"\n",
    "    \n",
    "    silver_data.write \\\n",
    "        .format(\"parquet\") \\\n",
    "        .mode(\"overwrite\") \\\n",
    "        .save(s3_output_path)   \n",
    "\n",
    "    print(f\"Data for {city.capitalize()} transformed and written in parquet format to Amazon s3 storage.\")   \n",
    "    \n",
    "    return silver_data, unique_teams    \n",
    "\n",
    "cities = [\"gdansk\", \"warsaw\", \"wroclaw\", \"krakow\", \"poznan\", \"slask\"]\n",
    "categories = [\"2010/2011\", \"2012/2013\", \"2012/2014\", \"2014/2015\", \"2016/2017\", \"2018/2019\"]\n",
    "\n",
    "# Process all cities\n",
    "for city in cities:\n",
    "    for category in categories:\n",
    "        unique_team_names(city, category)"
   ]
  }
 ],
 "metadata": {
  "application/vnd.databricks.v1+notebook": {
   "computePreferences": null,
   "dashboards": [],
   "environmentMetadata": {
    "base_environment": "",
    "environment_version": "2"
   },
   "language": "python",
   "notebookMetadata": {
    "pythonIndentUnit": 4
   },
   "notebookName": "Transformations",
   "widgets": {}
  },
  "language_info": {
   "name": "python"
  }
 },
 "nbformat": 4,
 "nbformat_minor": 0
}